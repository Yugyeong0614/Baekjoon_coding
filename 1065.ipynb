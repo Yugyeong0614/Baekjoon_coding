{
 "cells": [
  {
   "cell_type": "markdown",
   "id": "0a0e5457",
   "metadata": {},
   "source": [
    "## 한수"
   ]
  },
  {
   "cell_type": "code",
   "execution_count": null,
   "id": "51cd0485",
   "metadata": {},
   "outputs": [],
   "source": [
    "n = int(input())\n",
    "\n",
    "cnt = 0\n",
    "for i in range(1, n+1):\n",
    "    cnt_ = str(i)\n",
    "    \n",
    "    if len(cnt_) in [1,2] or len(set(cnt_)) == 1:\n",
    "        cnt += 1\n",
    "    \n",
    "    elif len(cnt_) == 3:\n",
    "        if (int(cnt_[0]) - int(cnt_[1])) == (int(cnt_[1]) - int(cnt_[2])):\n",
    "            cnt += 1\n",
    "        else:\n",
    "            continue\n",
    "            \n",
    "print(cnt)"
   ]
  }
 ],
 "metadata": {
  "kernelspec": {
   "display_name": "Python 3 (ipykernel)",
   "language": "python",
   "name": "python3"
  },
  "language_info": {
   "codemirror_mode": {
    "name": "ipython",
    "version": 3
   },
   "file_extension": ".py",
   "mimetype": "text/x-python",
   "name": "python",
   "nbconvert_exporter": "python",
   "pygments_lexer": "ipython3",
   "version": "3.9.12"
  }
 },
 "nbformat": 4,
 "nbformat_minor": 5
}
