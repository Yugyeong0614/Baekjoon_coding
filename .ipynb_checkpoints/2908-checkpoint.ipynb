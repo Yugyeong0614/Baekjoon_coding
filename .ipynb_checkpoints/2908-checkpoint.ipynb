{
 "cells": [
  {
   "cell_type": "markdown",
   "id": "a25b93ad",
   "metadata": {},
   "source": [
    "## 상수"
   ]
  },
  {
   "cell_type": "code",
   "execution_count": 1,
   "id": "1d0d8966",
   "metadata": {},
   "outputs": [
    {
     "name": "stdout",
     "output_type": "stream",
     "text": [
      "734 893\n",
      "437\n"
     ]
    }
   ],
   "source": [
    "a, b = map(int, input().split())\n",
    "\n",
    "a = str(a)\n",
    "b = str(b)\n",
    "\n",
    "a = a[::-1]\n",
    "b = b[::-1]\n",
    "\n",
    "a = int(a)\n",
    "b = int(b)\n",
    "\n",
    "print(max([a,b]))"
   ]
  },
  {
   "cell_type": "code",
   "execution_count": null,
   "id": "50cac85f",
   "metadata": {},
   "outputs": [],
   "source": []
  }
 ],
 "metadata": {
  "kernelspec": {
   "display_name": "Python 3 (ipykernel)",
   "language": "python",
   "name": "python3"
  },
  "language_info": {
   "codemirror_mode": {
    "name": "ipython",
    "version": 3
   },
   "file_extension": ".py",
   "mimetype": "text/x-python",
   "name": "python",
   "nbconvert_exporter": "python",
   "pygments_lexer": "ipython3",
   "version": "3.9.12"
  }
 },
 "nbformat": 4,
 "nbformat_minor": 5
}
