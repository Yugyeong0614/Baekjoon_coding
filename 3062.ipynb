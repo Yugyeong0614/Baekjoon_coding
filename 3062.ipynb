{
 "cells": [
  {
   "cell_type": "markdown",
   "id": "93cae087",
   "metadata": {},
   "source": [
    "## 수 뒤집기"
   ]
  },
  {
   "cell_type": "code",
   "execution_count": 1,
   "id": "51a92b2e",
   "metadata": {},
   "outputs": [
    {
     "name": "stdout",
     "output_type": "stream",
     "text": [
      "4\n",
      "13\n",
      "58\n",
      "120\n",
      "5056\n",
      "YES\n",
      "NO\n",
      "YES\n",
      "NO\n"
     ]
    }
   ],
   "source": [
    "# 테스트 케이스의 개수 입력\n",
    "t = int(input())\n",
    "\n",
    "# 테스트 케이스의 개수만큼 정수 입력(우선 문자형으로 입력)\n",
    "nums_lst = []\n",
    "for i in range(t):\n",
    "    num = input()\n",
    "    nums_lst.append(num)\n",
    "\n",
    "# nums_lst의 정수들을 뒤집은 수를 nums_lst_reverse에 저장\n",
    "nums_lst_reverse = []\n",
    "for i in nums_lst:\n",
    "    num2 = list(reversed(i))\n",
    "    num2 = ''.join(num2)\n",
    "    nums_lst_reverse.append(num2)\n",
    "\n",
    "# 원소가 문자형이므로 수치형으로 전환\n",
    "nums_lst = [int(i) for i in nums_lst]\n",
    "nums_lst_reverse = [int(i) for i in nums_lst_reverse]\n",
    "\n",
    "# 반복문 시행하여 원래 수와 뒤집은 수의 합이 대칭이 되는지 확인\n",
    "for i in range(len(nums_lst)):\n",
    "    sym_num = nums_lst[i] + nums_lst_reverse[i]\n",
    "    sym_num = str(sym_num)\n",
    "    \n",
    "    if sym_num == sym_num[::-1]:\n",
    "        print('YES')\n",
    "    else:\n",
    "        print('NO')"
   ]
  },
  {
   "cell_type": "code",
   "execution_count": null,
   "id": "354b7fd8",
   "metadata": {},
   "outputs": [],
   "source": []
  }
 ],
 "metadata": {
  "kernelspec": {
   "display_name": "Python 3 (ipykernel)",
   "language": "python",
   "name": "python3"
  },
  "language_info": {
   "codemirror_mode": {
    "name": "ipython",
    "version": 3
   },
   "file_extension": ".py",
   "mimetype": "text/x-python",
   "name": "python",
   "nbconvert_exporter": "python",
   "pygments_lexer": "ipython3",
   "version": "3.9.12"
  }
 },
 "nbformat": 4,
 "nbformat_minor": 5
}
