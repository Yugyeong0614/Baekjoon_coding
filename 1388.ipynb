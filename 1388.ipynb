{
 "cells": [
  {
   "cell_type": "markdown",
   "id": "a5a4c388",
   "metadata": {},
   "source": [
    "## 바닥 장식"
   ]
  },
  {
   "cell_type": "code",
   "execution_count": 1,
   "id": "9ec93a4b",
   "metadata": {},
   "outputs": [
    {
     "name": "stdout",
     "output_type": "stream",
     "text": [
      "4 4\n",
      "----\n",
      "----\n",
      "----\n",
      "----\n",
      "4\n"
     ]
    }
   ],
   "source": [
    "# 방 바닥의 세로 크기 n, 가로 크기 m\n",
    "# n: 리스트의 행의 개수, m: 리스트의 열의 개수\n",
    "n,m = map(int, input().split())\n",
    "floor = [] \t# 나무판자를 2차원 형태의 리스트로 저장하기 위한 공간 형성\n",
    "for _ in range(n):\n",
    "    floor.append(list(input()))  # 나무판자 리스트 생성\n",
    "\n",
    "# '-'모양의 나무 판자 개수 계산\n",
    "cnt = 0\n",
    "for i in range(n):\n",
    "    a = ''\n",
    "    for j in range(m):\n",
    "        if floor[i][j] == '-':\n",
    "            if floor[i][j] != a:  # '-'가 행 방향으로 인접하지 않을 경우 개수에 1을 더함\n",
    "                cnt += 1\n",
    "        a = floor[i][j]\n",
    "        \n",
    "# 'ㅣ'모양의 나무 판자 개수 계산\n",
    "for j in range(m):\n",
    "    a = ''\n",
    "    for i in range(n):\n",
    "        if floor[i][j] == '|':\n",
    "            if floor[i][j] != a:  # '|'가 열 방향으로 인접하지 않을 경우 개수에 1을 더함\n",
    "                cnt += 1\n",
    "        a = floor[i][j]\n",
    "        \n",
    "print(cnt)"
   ]
  },
  {
   "cell_type": "code",
   "execution_count": null,
   "id": "90632f0d",
   "metadata": {},
   "outputs": [],
   "source": []
  }
 ],
 "metadata": {
  "kernelspec": {
   "display_name": "Python 3 (ipykernel)",
   "language": "python",
   "name": "python3"
  },
  "language_info": {
   "codemirror_mode": {
    "name": "ipython",
    "version": 3
   },
   "file_extension": ".py",
   "mimetype": "text/x-python",
   "name": "python",
   "nbconvert_exporter": "python",
   "pygments_lexer": "ipython3",
   "version": "3.9.12"
  }
 },
 "nbformat": 4,
 "nbformat_minor": 5
}
