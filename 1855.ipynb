{
 "cells": [
  {
   "cell_type": "markdown",
   "id": "250acf8f",
   "metadata": {},
   "source": [
    "## 암호"
   ]
  },
  {
   "cell_type": "code",
   "execution_count": 1,
   "id": "123c625e",
   "metadata": {},
   "outputs": [
    {
     "name": "stdout",
     "output_type": "stream",
     "text": [
      "3\n",
      "aeijfbcgklhd\n",
      "abcdefghijkl\n"
     ]
    }
   ],
   "source": [
    "# 1855\n",
    "# 열의 개수 입력\n",
    "k = int(input())\n",
    "\n",
    "# 암호화 된 문자열 입력\n",
    "code_char = list(input())\n",
    "\n",
    "# k개의 열로 암호화 -> 한 리스트 안에 원소가 k개씩 들어 있는 2차원 리스트 생성\n",
    "code_lst = []\n",
    "for i in range(len(code_char)):\n",
    "    if i % k == 0:\n",
    "        code_lst.append(code_char[i:i+k])\n",
    "\n",
    "# 문자열을 읽는 방식 반영 -> 문자열의 인덱스가 짝수이면 그대로, 홀수이면 역순\n",
    "code_lst2 = []\n",
    "for i, sub_lst in enumerate(code_lst):\n",
    "    if i % 2 == 0:\n",
    "        code_lst2.append(sub_lst)\n",
    "    else:\n",
    "        code_lst2.append(list(reversed(sub_lst)))\n",
    "        \n",
    "# 원래의 문자열을 출력하기 위한 이중루프문 작성\n",
    "decode_lst = []\n",
    "for i in range(k):\n",
    "    for j in range(len(code_lst2)):\n",
    "        decode_lst.append(code_lst2[j][i])\n",
    "        \n",
    "decode_rst = ''.join(map(str, decode_lst))\n",
    "print(decode_rst)"
   ]
  },
  {
   "cell_type": "code",
   "execution_count": null,
   "id": "c7a4cf0c",
   "metadata": {},
   "outputs": [],
   "source": []
  }
 ],
 "metadata": {
  "kernelspec": {
   "display_name": "Python 3 (ipykernel)",
   "language": "python",
   "name": "python3"
  },
  "language_info": {
   "codemirror_mode": {
    "name": "ipython",
    "version": 3
   },
   "file_extension": ".py",
   "mimetype": "text/x-python",
   "name": "python",
   "nbconvert_exporter": "python",
   "pygments_lexer": "ipython3",
   "version": "3.9.12"
  }
 },
 "nbformat": 4,
 "nbformat_minor": 5
}
