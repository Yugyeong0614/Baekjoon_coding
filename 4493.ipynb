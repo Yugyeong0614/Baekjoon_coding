{
 "cells": [
  {
   "cell_type": "markdown",
   "id": "134987b7",
   "metadata": {},
   "source": [
    "## 가위 바위 보?"
   ]
  },
  {
   "cell_type": "code",
   "execution_count": 1,
   "id": "19ad9e04",
   "metadata": {},
   "outputs": [
    {
     "name": "stdout",
     "output_type": "stream",
     "text": [
      "3\n",
      "2\n",
      "R P\n",
      "S R\n",
      "3\n",
      "P P\n",
      "R S\n",
      "S R\n",
      "1\n",
      "P R\n",
      "Player 2\n",
      "TIE\n",
      "Player 1\n"
     ]
    }
   ],
   "source": [
    "## 테스트 케이스의 개수 입력하기\n",
    "t = int(input())\n",
    "\n",
    "# player1과 player2 리스트 생성\n",
    "player1_lst = []\n",
    "player2_lst = []\n",
    "\n",
    "# 가위바위보를 한 횟수 리스트 생성\n",
    "n_lst = []\n",
    "\n",
    "for i in range(t):\n",
    "    \n",
    "    # 가위바위보를 한 횟수 입력하기\n",
    "    n = int(input())\n",
    "    n_lst.append(n)\n",
    "    \n",
    "    # player1과 player2 리스트에 가위바위보 결과 추가\n",
    "    for j in range(n):\n",
    "        player1, player2 = list(map(str, input().split()))\n",
    "        player1_lst.append(player1)\n",
    "        player2_lst.append(player2)\n",
    "\n",
    "\n",
    "## 가위 바위 보 게임 결과 판단하기\n",
    "for i in range(t):\n",
    "    \n",
    "    # 각 플레이어의 승리 횟수 초기화하기(win1 : player1, win2 : player2)\n",
    "    win1, win2 = 0, 0\n",
    "\n",
    "    for j in range(n_lst[i]):\n",
    "        player1, player2 = player1_lst.pop(0), player2_lst.pop(0)\n",
    "\n",
    "        # 가위 바위 보 규칙에 따라 승자 결정\n",
    "        if (player1 == 'R' and player2 == 'S') or (player1 == 'S' and player2 == 'P') or (player1 == 'P' and player2 == 'R'):\n",
    "            win1 += 1\n",
    "            \n",
    "        elif (player2 == 'R' and player1 == 'S') or (player2 == 'S' and player1 == 'P') or (player2 == 'P' and player1 == 'R'):\n",
    "            win2 += 1\n",
    "\n",
    "    # 최종 결과 출력\n",
    "    if win1 > win2:\n",
    "        print(\"Player 1\")\n",
    "    elif win1 < win2:\n",
    "        print(\"Player 2\")\n",
    "    else:\n",
    "        print(\"TIE\")"
   ]
  },
  {
   "cell_type": "code",
   "execution_count": null,
   "id": "9a3de8ae",
   "metadata": {},
   "outputs": [],
   "source": []
  }
 ],
 "metadata": {
  "kernelspec": {
   "display_name": "Python 3 (ipykernel)",
   "language": "python",
   "name": "python3"
  },
  "language_info": {
   "codemirror_mode": {
    "name": "ipython",
    "version": 3
   },
   "file_extension": ".py",
   "mimetype": "text/x-python",
   "name": "python",
   "nbconvert_exporter": "python",
   "pygments_lexer": "ipython3",
   "version": "3.9.12"
  }
 },
 "nbformat": 4,
 "nbformat_minor": 5
}
