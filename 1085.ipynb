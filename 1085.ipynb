{
 "cells": [
  {
   "cell_type": "code",
   "execution_count": 4,
   "id": "dcbbeee5",
   "metadata": {},
   "outputs": [
    {
     "name": "stdout",
     "output_type": "stream",
     "text": [
      "161 181 762 375\n",
      "161\n"
     ]
    }
   ],
   "source": [
    "## 1. x, y, w, h 입력\n",
    "x, y, w, h = map(int, input().split())\n",
    "\n",
    "# 1-1. x, y, w, h 제한 조건 반영\n",
    "if w < 1 or w > 1000:\n",
    "    print('잘못된 값입니다. 다시 입력해주세요.')\n",
    "    x, y, w, h = map(int, input().split())\n",
    "\n",
    "elif h < 1 or h > 1000:\n",
    "    print('잘못된 값입니다. 다시 입력해주세요.')\n",
    "    x, y, w, h = map(int, input().split())\n",
    "\n",
    "elif x < 1 or x > w-1:\n",
    "    print('잘못된 값입니다. 다시 입력해주세요.')\n",
    "    x, y, w, h = map(int, input().split())\n",
    "\n",
    "elif y < 1 or y > h-1:\n",
    "    print('잘못된 값입니다. 다시 입력해주세요.')\n",
    "    x, y, w, h = map(int, input().split())\n",
    "\n",
    "\n",
    "## 2. 모든 경우의 수를 생각\n",
    "\n",
    "# 2-1. y축으로 이동 -> 이동 후 좌표 (0, k) 꼴\n",
    "# x 값만큼 이동하므로 x와 동일\n",
    "y_axis = x\n",
    "\n",
    "# 2-2. x축으로 이동 -> 이동 후 좌표 (k, 0) 꼴\n",
    "# y 값만큼 이동하므로 y와 동일\n",
    "x_axis = y\n",
    "\n",
    "# 2-3. y축이 아닌 가로 방향의 경계선으로 이동\n",
    "width_min = w-x\n",
    "\n",
    "# 2-4. x축이 아닌 세로 방향의 경계선으로 이동\n",
    "height_min = h-y\n",
    "\n",
    "\n",
    "## 3. 거리의 최솟값 구하기\n",
    "print(min(y_axis, x_axis, width_min, height_min))"
   ]
  },
  {
   "cell_type": "code",
   "execution_count": null,
   "id": "8698cb64",
   "metadata": {},
   "outputs": [],
   "source": []
  }
 ],
 "metadata": {
  "kernelspec": {
   "display_name": "Python 3 (ipykernel)",
   "language": "python",
   "name": "python3"
  },
  "language_info": {
   "codemirror_mode": {
    "name": "ipython",
    "version": 3
   },
   "file_extension": ".py",
   "mimetype": "text/x-python",
   "name": "python",
   "nbconvert_exporter": "python",
   "pygments_lexer": "ipython3",
   "version": "3.9.12"
  }
 },
 "nbformat": 4,
 "nbformat_minor": 5
}
