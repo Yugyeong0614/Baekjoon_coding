{
 "cells": [
  {
   "cell_type": "code",
   "execution_count": 1,
   "id": "3d14723c",
   "metadata": {},
   "outputs": [
    {
     "name": "stdout",
     "output_type": "stream",
     "text": [
      "5\n",
      "0 1 1 3 2\n",
      "4 2 5 3 1\n"
     ]
    }
   ],
   "source": [
    "# 학생 수\n",
    "std_num = int(input())\n",
    "\n",
    "# 처음에 줄을 선 순서대로 번호 매김\n",
    "std_line = list(map(int, input().split()))\n",
    "\n",
    "# 최종적으로 줄을 선 순서\n",
    "std_order = []\n",
    "\n",
    "\n",
    "for i in range(std_num):\n",
    "    std_order.insert(i - std_line[i], i + 1)\n",
    "\n",
    "# join : 구분자를 공백으로 하여 출력\n",
    "# 리스트에 여러 개의 원소들이 들어 있으므로 map 함수를 통해 이를 한꺼번에 문자형으로 적용시킴\n",
    "print(' '.join(map(str, std_order)))"
   ]
  },
  {
   "cell_type": "code",
   "execution_count": null,
   "id": "4127e6e1",
   "metadata": {},
   "outputs": [],
   "source": []
  }
 ],
 "metadata": {
  "kernelspec": {
   "display_name": "Python 3 (ipykernel)",
   "language": "python",
   "name": "python3"
  },
  "language_info": {
   "codemirror_mode": {
    "name": "ipython",
    "version": 3
   },
   "file_extension": ".py",
   "mimetype": "text/x-python",
   "name": "python",
   "nbconvert_exporter": "python",
   "pygments_lexer": "ipython3",
   "version": "3.9.12"
  }
 },
 "nbformat": 4,
 "nbformat_minor": 5
}
