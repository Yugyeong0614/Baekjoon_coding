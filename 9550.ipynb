{
 "cells": [
  {
   "cell_type": "markdown",
   "id": "b9bd4ef3",
   "metadata": {},
   "source": [
    "## 아이들은 사탕을 좋아해"
   ]
  },
  {
   "cell_type": "code",
   "execution_count": 1,
   "id": "c0e8b60c",
   "metadata": {},
   "outputs": [
    {
     "name": "stdout",
     "output_type": "stream",
     "text": [
      "2\n",
      "3 2\n",
      "4 5 7\n",
      "3 8\n",
      "4 5 7\n",
      "7\n",
      "0\n"
     ]
    }
   ],
   "source": [
    "# 1. 테스트 케이스의 개수\n",
    "t = int(input())\n",
    "\n",
    "# 2. 사탕의 종류수(N)와 아이들이 만족하는 최소한의 사탕 개수(K)\n",
    "\n",
    "# 후에 개수의 합을 출력하기 위해 빈 리스트 생성\n",
    "lst = []\n",
    "\n",
    "# 반복문 시행\n",
    "for i in range(t):\n",
    "    n, k = map(int, input().split())\n",
    "    candies = list(map(int, input().split()))  # 사탕 종류에 따른 사탕의 개수\n",
    "    lst_cnt = []   # 참석 가능한 아이들의 수에 대한 빈 리스트 생성\n",
    "    for j in candies:\n",
    "        cnt = j // k    # 참석 가능한 아이들의 수 = 사탕 개수를 최소 사탕 개수로 나누었을 때의 몫\n",
    "        lst_cnt.append(cnt)\n",
    "    lst.append(lst_cnt)\n",
    "\n",
    "for i in lst:\n",
    "    print(sum(i))"
   ]
  },
  {
   "cell_type": "code",
   "execution_count": null,
   "id": "6b84f2dc",
   "metadata": {},
   "outputs": [],
   "source": []
  }
 ],
 "metadata": {
  "kernelspec": {
   "display_name": "Python 3 (ipykernel)",
   "language": "python",
   "name": "python3"
  },
  "language_info": {
   "codemirror_mode": {
    "name": "ipython",
    "version": 3
   },
   "file_extension": ".py",
   "mimetype": "text/x-python",
   "name": "python",
   "nbconvert_exporter": "python",
   "pygments_lexer": "ipython3",
   "version": "3.9.12"
  }
 },
 "nbformat": 4,
 "nbformat_minor": 5
}
