{
 "cells": [
  {
   "cell_type": "markdown",
   "id": "b8b9dd51",
   "metadata": {},
   "source": [
    "## 숫자 빈도수"
   ]
  },
  {
   "cell_type": "code",
   "execution_count": 2,
   "id": "c64c7a91",
   "metadata": {},
   "outputs": [
    {
     "name": "stdout",
     "output_type": "stream",
     "text": [
      "100 3\n",
      "20\n"
     ]
    }
   ],
   "source": [
    "n, d = map(int, input().split())\n",
    "lst = []\n",
    "\n",
    "for i in range(1, n+1):\n",
    "    s = list(str(i))\n",
    "    lst.append(s)\n",
    "\n",
    "cnt = 0\n",
    "for i in lst:\n",
    "    for j in i:\n",
    "        if j == str(d):\n",
    "            cnt += 1\n",
    "        else:\n",
    "            continue\n",
    "print(cnt)"
   ]
  },
  {
   "cell_type": "code",
   "execution_count": null,
   "id": "8f250f29",
   "metadata": {},
   "outputs": [],
   "source": []
  }
 ],
 "metadata": {
  "kernelspec": {
   "display_name": "Python 3 (ipykernel)",
   "language": "python",
   "name": "python3"
  },
  "language_info": {
   "codemirror_mode": {
    "name": "ipython",
    "version": 3
   },
   "file_extension": ".py",
   "mimetype": "text/x-python",
   "name": "python",
   "nbconvert_exporter": "python",
   "pygments_lexer": "ipython3",
   "version": "3.9.12"
  }
 },
 "nbformat": 4,
 "nbformat_minor": 5
}
