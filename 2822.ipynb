{
 "cells": [
  {
   "cell_type": "markdown",
   "id": "c871a59e",
   "metadata": {},
   "source": [
    "## 점수 계산"
   ]
  },
  {
   "cell_type": "code",
   "execution_count": 1,
   "id": "be234d03",
   "metadata": {},
   "outputs": [
    {
     "name": "stdout",
     "output_type": "stream",
     "text": [
      "20\n",
      "30\n",
      "50\n",
      "48\n",
      "33\n",
      "66\n",
      "0\n",
      "64\n",
      "261\n",
      "3 4 5 6 8 "
     ]
    }
   ],
   "source": [
    "# 점수를 저장할 리스트 생성\n",
    "score_lst = []\n",
    "\n",
    "# 8문제의 점수 입력 및 저장\n",
    "for i in range(8):\n",
    "    score = int(input())\n",
    "    score_lst.append(score)\n",
    "    \n",
    "# 점수 리스트를 내림차순으로 정렬하여 새로운 리스트에 저장\n",
    "score_sort_lst = sorted(score_lst, reverse=True)[0:5]\n",
    "\n",
    "# 가장 높은 점수 5개의 합 구하기\n",
    "tot_score = sum(score_sort_lst)\n",
    "\n",
    "# 문항의 인덱스를 저장할 리스트 생성\n",
    "index_lst = []\n",
    "\n",
    "# 점수 5개가 몇 번째 문제인지 알아보기 위한 반복문 실시\n",
    "# 파이썬에서는 인덱스가 0부터 시작한다는 점을 주의하여 1을 더함\n",
    "for j in score_sort_lst:\n",
    "    index = score_lst.index(j) + 1\n",
    "    index_lst.append(index)\n",
    "\n",
    "# 참가자의 총점 출력\n",
    "print(tot_score)\n",
    "\n",
    "# 리스트를 오름차순 정렬\n",
    "index_lst = sorted(index_lst)\n",
    "\n",
    "# 리스트 형태로 출력되지 않기 위한 코드\n",
    "for _ in index_lst:\n",
    "    print(_, end=' ')"
   ]
  },
  {
   "cell_type": "code",
   "execution_count": null,
   "id": "786ab827",
   "metadata": {},
   "outputs": [],
   "source": []
  }
 ],
 "metadata": {
  "kernelspec": {
   "display_name": "Python 3 (ipykernel)",
   "language": "python",
   "name": "python3"
  },
  "language_info": {
   "codemirror_mode": {
    "name": "ipython",
    "version": 3
   },
   "file_extension": ".py",
   "mimetype": "text/x-python",
   "name": "python",
   "nbconvert_exporter": "python",
   "pygments_lexer": "ipython3",
   "version": "3.9.12"
  }
 },
 "nbformat": 4,
 "nbformat_minor": 5
}
