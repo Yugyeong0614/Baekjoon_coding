{
 "cells": [
  {
   "cell_type": "markdown",
   "id": "5dc5b252",
   "metadata": {},
   "source": [
    "## 스택"
   ]
  },
  {
   "cell_type": "code",
   "execution_count": 2,
   "id": "6cf424db",
   "metadata": {},
   "outputs": [
    {
     "name": "stdout",
     "output_type": "stream",
     "text": [
      "7\n",
      "pop\n",
      "top\n",
      "push 123\n",
      "top\n",
      "pop\n",
      "top\n",
      "pop\n",
      "-1\n",
      "-1\n",
      "123\n",
      "123\n",
      "-1\n",
      "-1\n"
     ]
    }
   ],
   "source": [
    "n = int(input())\n",
    "\n",
    "command_lst = []\n",
    "\n",
    "for i in range(n):\n",
    "    command = input()\n",
    "    command_lst.append(command)\n",
    "\n",
    "stack = []\n",
    "\n",
    "for j in command_lst:\n",
    "    \n",
    "    if 'push' in j:\n",
    "        j = j.split(' ')\n",
    "        j = j[len(j)-1]\n",
    "        stack.append(j)\n",
    "        \n",
    "    if j == 'pop':\n",
    "        try:\n",
    "            del_int = stack[len(stack)-1]\n",
    "            del stack[len(stack)-1]\n",
    "            print(del_int)\n",
    "        \n",
    "        except:\n",
    "            print(-1)\n",
    "            \n",
    "    if j == 'size':\n",
    "        print(len(stack))\n",
    "        \n",
    "    if j == 'empty':\n",
    "        \n",
    "        if len(stack) == 0:\n",
    "            print(1)\n",
    "            \n",
    "        else:\n",
    "            print(0)\n",
    "            \n",
    "    if j == 'top':\n",
    "        \n",
    "        try:\n",
    "            print(stack[len(stack)-1])\n",
    "        \n",
    "        except:\n",
    "            print(-1)"
   ]
  },
  {
   "cell_type": "code",
   "execution_count": null,
   "id": "a5fd3f0b",
   "metadata": {},
   "outputs": [],
   "source": []
  }
 ],
 "metadata": {
  "kernelspec": {
   "display_name": "Python 3 (ipykernel)",
   "language": "python",
   "name": "python3"
  },
  "language_info": {
   "codemirror_mode": {
    "name": "ipython",
    "version": 3
   },
   "file_extension": ".py",
   "mimetype": "text/x-python",
   "name": "python",
   "nbconvert_exporter": "python",
   "pygments_lexer": "ipython3",
   "version": "3.9.12"
  }
 },
 "nbformat": 4,
 "nbformat_minor": 5
}
