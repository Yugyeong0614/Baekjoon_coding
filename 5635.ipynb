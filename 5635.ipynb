{
 "cells": [
  {
   "cell_type": "markdown",
   "id": "d4753550",
   "metadata": {},
   "source": [
    "## 생일"
   ]
  },
  {
   "cell_type": "code",
   "execution_count": 1,
   "id": "5692abb9",
   "metadata": {},
   "outputs": [
    {
     "name": "stdout",
     "output_type": "stream",
     "text": [
      "5\n",
      "Mickey 1 10 1991\n",
      "Alice 30 12 1990\n",
      "Tom 15 8 1993\n",
      "Jerry 18 9 1990\n",
      "Garfield 20 9 1990\n",
      "Tom\n",
      "Jerry\n"
     ]
    }
   ],
   "source": [
    "n = int(input())\n",
    "name = []\n",
    "birth_lst = []\n",
    "for i in range(n):\n",
    "    n, d, m, y = map(str, input().split())\n",
    "    name.append(n)\n",
    "\n",
    "    if len(m) == 1:\n",
    "        if len(d) == 1:\n",
    "            birthday = int(y + '0' + m + '0' + d)\n",
    "        else:\n",
    "            birthday = int(y + '0' + m + d)\n",
    "    else:\n",
    "        if len(d) == 1:\n",
    "            birthday = int(y + m + '0' + d)\n",
    "        else:\n",
    "            birthday = int(y + m + d)\n",
    "            \n",
    "    birth_lst.append(birthday)\n",
    "\n",
    "tot_birth = list(zip(name, birth_lst))\n",
    "tot_birth.sort(key=lambda x: (x[1],x[0]), reverse=True)\n",
    "print(tot_birth[0][0])\n",
    "print(tot_birth[-1][0])"
   ]
  },
  {
   "cell_type": "code",
   "execution_count": null,
   "id": "7b426897",
   "metadata": {},
   "outputs": [],
   "source": []
  }
 ],
 "metadata": {
  "kernelspec": {
   "display_name": "Python 3 (ipykernel)",
   "language": "python",
   "name": "python3"
  },
  "language_info": {
   "codemirror_mode": {
    "name": "ipython",
    "version": 3
   },
   "file_extension": ".py",
   "mimetype": "text/x-python",
   "name": "python",
   "nbconvert_exporter": "python",
   "pygments_lexer": "ipython3",
   "version": "3.9.12"
  }
 },
 "nbformat": 4,
 "nbformat_minor": 5
}
