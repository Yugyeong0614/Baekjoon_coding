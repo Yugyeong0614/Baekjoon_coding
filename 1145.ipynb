{
 "cells": [
  {
   "cell_type": "markdown",
   "id": "d1a10f8d",
   "metadata": {},
   "source": [
    "## 적어도 대부분의 배수"
   ]
  },
  {
   "cell_type": "code",
   "execution_count": 4,
   "id": "b843bbcf",
   "metadata": {},
   "outputs": [
    {
     "name": "stdout",
     "output_type": "stream",
     "text": [
      "3 14 15 92 65\n",
      "195\n"
     ]
    }
   ],
   "source": [
    "# 자연수 5개 입력\n",
    "a, b, c, d, e = map(int, input().split())\n",
    "\n",
    "# 자연수 5개 리스트에 저장\n",
    "num_lst = [a, b, c, d, e]\n",
    "\n",
    "# 자연수 5개가 100보다 크거나 중복되는 경우 다시 입력\n",
    "if a > 100 or b > 100 or c > 100 or d > 100 or e > 100:\n",
    "    print('값이 100보다 큽니다.')\n",
    "    a, b, c, d, e = map(int, input().split())\n",
    "\n",
    "if len(num_lst) != len(set(num_lst)):\n",
    "    print('값이 중복됩니다.')\n",
    "    a, b, c, d, e = map(int, input().split())\n",
    "\n",
    "# 최소공배수 구하는 함수 사용\n",
    "import math\n",
    "\n",
    "lcm = []\n",
    "lcm.append(math.lcm(a, b, c))\n",
    "lcm.append(math.lcm(a, b, d))\n",
    "lcm.append(math.lcm(a, b, e))\n",
    "lcm.append(math.lcm(a, c, d))\n",
    "lcm.append(math.lcm(a, c, e))\n",
    "lcm.append(math.lcm(a, d, e))\n",
    "lcm.append(math.lcm(b, c, d))\n",
    "lcm.append(math.lcm(b, c, e))\n",
    "lcm.append(math.lcm(b, d, e))\n",
    "lcm.append(math.lcm(c, d, e))\n",
    "\n",
    "lcm.append(math.lcm(a, b, c, d))\n",
    "lcm.append(math.lcm(a, b, c, e))\n",
    "lcm.append(math.lcm(a, b, d, e))\n",
    "lcm.append(math.lcm(a, c, d, e))\n",
    "lcm.append(math.lcm(b, c, d, e))\n",
    "\n",
    "lcm.append(math.lcm(a, b, c, d, e))\n",
    "\n",
    "print(min(lcm))"
   ]
  },
  {
   "cell_type": "code",
   "execution_count": null,
   "id": "27c11128",
   "metadata": {},
   "outputs": [],
   "source": []
  }
 ],
 "metadata": {
  "kernelspec": {
   "display_name": "Python 3 (ipykernel)",
   "language": "python",
   "name": "python3"
  },
  "language_info": {
   "codemirror_mode": {
    "name": "ipython",
    "version": 3
   },
   "file_extension": ".py",
   "mimetype": "text/x-python",
   "name": "python",
   "nbconvert_exporter": "python",
   "pygments_lexer": "ipython3",
   "version": "3.9.12"
  }
 },
 "nbformat": 4,
 "nbformat_minor": 5
}
