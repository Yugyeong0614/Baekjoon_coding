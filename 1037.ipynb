{
 "cells": [
  {
   "cell_type": "markdown",
   "id": "16a9a2b3",
   "metadata": {},
   "source": [
    "## 약수"
   ]
  },
  {
   "cell_type": "code",
   "execution_count": 4,
   "id": "256537d4",
   "metadata": {},
   "outputs": [
    {
     "name": "stdout",
     "output_type": "stream",
     "text": [
      "14\n",
      "14 26456 2 28 13228 3307 7 23149 8 6614 46298 56 4 92596\n",
      "185192\n"
     ]
    }
   ],
   "source": [
    "### 약수의 개수에 대한 사용자 정의 함수 생성\n",
    "\n",
    "def input_div():\n",
    "    \n",
    "    ## 1. N의 진짜 약수의 개수 입력\n",
    "    real_num_div = int(input())\n",
    "    \n",
    "    # 1-1. N의 진짜 약수의 개수가 50보다 크면 다시 입력\n",
    "    if real_num_div > 50:\n",
    "        print('50보다 큽니다. 다시 입력해주세요.')\n",
    "        real_num_div = int(input())\n",
    "    \n",
    "    ## 2. 진짜 약수들 입력\n",
    "    divisors = list(map(int, input().split()))\n",
    "    \n",
    "    # 2-1. 아래의 경우들은 다시 입력\n",
    "    # 리스트 divisors의 원소의 개수가 real_num_div와 다른 경우\n",
    "    if len(divisors) != real_num_div:\n",
    "        print('올바르지 않은 값입니다. 다시 입력해주세요.')\n",
    "        divisors = list(map(int, input().split()))\n",
    "        \n",
    "    # 진짜 약수들이 중복되는 경우\n",
    "    if len(divisors) != len(set(divisors)):\n",
    "        print('약수들이 중복됩니다. 다시 입력해주세요.')\n",
    "        divisors = list(map(int, input().split()))\n",
    "    \n",
    "    # 2-2. 진짜 약수들에 대하여 반복문 진행\n",
    "    for i in divisors:\n",
    "        \n",
    "        # 진짜 약수들 중 하나라도 2보다 작은 경우 다시 입력\n",
    "        if i < 2:\n",
    "            print('진짜 약수가 2보다 작습니다. 다시 입력해주세요.')\n",
    "            divisors = list(map(int, input().split()))\n",
    "            \n",
    "        # 진짜 약수들 중 하나라도 1,000,000보다 큰 경우 다시 입력\n",
    "        if i > 1e+6:\n",
    "            print('진짜 약수가 1,000,000보다 큽니다. 다시 입력해주세요.')\n",
    "            divisors = list(map(int, input().split()))\n",
    "    \n",
    "    ## 3. 규칙 발견\n",
    "    # 진짜 약수들 오름차순 정렬 -> 가장 작은 값과 가장 큰 값의 곱이 N\n",
    "\n",
    "    # 3-1. 진짜 약수들을 오름차순 정렬 실시\n",
    "    divisors.sort()\n",
    "    \n",
    "    # 3-2. 가장 작은 값과 가장 큰 값 곱하기\n",
    "    N = divisors[0] * divisors[len(divisors)-1]\n",
    "    \n",
    "    # 3-3. N이 진짜 약수들의 배수가 맞는지 확인하기\n",
    "    # 배수가 아니라면 약수 다시 입력\n",
    "    for i in divisors:\n",
    "        if N % i == 0:\n",
    "            continue\n",
    "        else:\n",
    "            print('올바르지 않은 값입니다. 다시 입력해주세요.')\n",
    "            divisors = list(map(int, input().split()))\n",
    "    \n",
    "    print(N)\n",
    "    \n",
    "    return real_num_div, divisors\n",
    "\n",
    "# N 구하기\n",
    "real_num_div, divisors = input_div()"
   ]
  },
  {
   "cell_type": "code",
   "execution_count": null,
   "id": "4e0ffd1a",
   "metadata": {},
   "outputs": [],
   "source": []
  }
 ],
 "metadata": {
  "kernelspec": {
   "display_name": "Python 3 (ipykernel)",
   "language": "python",
   "name": "python3"
  },
  "language_info": {
   "codemirror_mode": {
    "name": "ipython",
    "version": 3
   },
   "file_extension": ".py",
   "mimetype": "text/x-python",
   "name": "python",
   "nbconvert_exporter": "python",
   "pygments_lexer": "ipython3",
   "version": "3.9.12"
  }
 },
 "nbformat": 4,
 "nbformat_minor": 5
}
