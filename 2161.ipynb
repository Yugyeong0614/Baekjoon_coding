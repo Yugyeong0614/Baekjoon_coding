{
 "cells": [
  {
   "cell_type": "markdown",
   "id": "0f659029",
   "metadata": {},
   "source": [
    "## 카드1"
   ]
  },
  {
   "cell_type": "code",
   "execution_count": 1,
   "id": "7819fabe",
   "metadata": {},
   "outputs": [
    {
     "name": "stdout",
     "output_type": "stream",
     "text": [
      "7\n",
      "1 3 5 7 4 2 6\n"
     ]
    }
   ],
   "source": [
    "# n 입력\n",
    "n = int(input())\n",
    "\n",
    "# 입력한 카드를 담을 리스트 생성\n",
    "card_lst = []\n",
    "\n",
    "# 1부터 n까지의 카드들을 card_lst에 저장하는 반복문 실시\n",
    "for i in range(1, n+1):\n",
    "    card_lst.append(i)\n",
    "    \n",
    "# 최종 결과(버린 카드)를 담을 리스트 생성\n",
    "fin_card_lst = []\n",
    "\n",
    "for i in range(n):\n",
    "    \n",
    "    try:\n",
    "        # card_lst에서 버린 카드를 최종 결과 리스트에 저장\n",
    "        fin_card_lst.append(card_lst[0])\n",
    "        \n",
    "        # card_lst에서 버린 카드 삭제\n",
    "        del card_lst[0]\n",
    "        \n",
    "        # 카드를 버린 후 제일 위에 있는 카드 저장\n",
    "        card = card_lst[0]\n",
    "        \n",
    "        # 제일 위에 있는 카드 card_lst에서 삭제\n",
    "        del card_lst[0]\n",
    "        \n",
    "        # 삭제했던 제일 위에 있는 카드를 맨 뒤에 옮기기\n",
    "        card_lst.append(card)\n",
    "        \n",
    "        # 카드가 한 장 남게 되면 반복문 종료\n",
    "        if len(card_lst) == 1:\n",
    "            break\n",
    "            \n",
    "    except:\n",
    "        break\n",
    "    \n",
    "\n",
    "# 버리는 카드와 남게 되는 카드 리스트 합치기\n",
    "final_lst = fin_card_lst + card_lst\n",
    "final_lst = [str(a) for a in final_lst]\n",
    "print(\" \".join(final_lst))"
   ]
  },
  {
   "cell_type": "code",
   "execution_count": null,
   "id": "ef51d8f4",
   "metadata": {},
   "outputs": [],
   "source": []
  }
 ],
 "metadata": {
  "kernelspec": {
   "display_name": "Python 3 (ipykernel)",
   "language": "python",
   "name": "python3"
  },
  "language_info": {
   "codemirror_mode": {
    "name": "ipython",
    "version": 3
   },
   "file_extension": ".py",
   "mimetype": "text/x-python",
   "name": "python",
   "nbconvert_exporter": "python",
   "pygments_lexer": "ipython3",
   "version": "3.9.12"
  }
 },
 "nbformat": 4,
 "nbformat_minor": 5
}
