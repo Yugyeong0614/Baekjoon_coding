{
 "cells": [
  {
   "cell_type": "markdown",
   "id": "bfb4ab79",
   "metadata": {},
   "source": [
    "## Quicksum"
   ]
  },
  {
   "cell_type": "code",
   "execution_count": 1,
   "id": "c2b5641b",
   "metadata": {},
   "outputs": [
    {
     "name": "stdout",
     "output_type": "stream",
     "text": [
      "ACM\n",
      "MID CENTRAL\n",
      "REGIONAL PROGRAMMING CONTEST\n",
      "ACN\n",
      "A C M\n",
      "ABC\n",
      "BBC\n",
      "#\n",
      "46\n",
      "650\n",
      "4690\n",
      "49\n",
      "75\n",
      "14\n",
      "15\n"
     ]
    }
   ],
   "source": [
    "# checksum 값을 담을 빈 리스트 생성\n",
    "lst = []\n",
    "\n",
    "while True:\n",
    "    packet = input()\n",
    "    if packet == \"#\":\n",
    "        break\n",
    "    else:\n",
    "        checksum = 0\n",
    "        for i in range(len(packet)):\n",
    "            if packet[i] == \" \":\n",
    "                checksum += 0\n",
    "            else:\n",
    "                checksum += (ord(packet[i]) - 64) * (i + 1)\n",
    "        lst.append(checksum)\n",
    "\n",
    "# 입력 직후 출력값이 나오는 게 아니라 한꺼번에 나오도록 설정\n",
    "for i in lst:\n",
    "    print(i)"
   ]
  },
  {
   "cell_type": "code",
   "execution_count": null,
   "id": "8c5c6f1b",
   "metadata": {},
   "outputs": [],
   "source": []
  }
 ],
 "metadata": {
  "kernelspec": {
   "display_name": "Python 3 (ipykernel)",
   "language": "python",
   "name": "python3"
  },
  "language_info": {
   "codemirror_mode": {
    "name": "ipython",
    "version": 3
   },
   "file_extension": ".py",
   "mimetype": "text/x-python",
   "name": "python",
   "nbconvert_exporter": "python",
   "pygments_lexer": "ipython3",
   "version": "3.9.12"
  }
 },
 "nbformat": 4,
 "nbformat_minor": 5
}
